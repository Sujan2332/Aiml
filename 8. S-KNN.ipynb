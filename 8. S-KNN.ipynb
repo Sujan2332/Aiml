import numpy as np
import pandas as pd

# Loading the Dataset
dataset = pd.read_csv('iris.csv')

# Dividing data into features and labels
feature_columns = ['sepal_length', 'sepal_width', 'petal_length', 'petal_width']
X = dataset[feature_columns].values
y = dataset['species'].values

# Label Encoding for y
from sklearn.preprocessing import LabelEncoder
le = LabelEncoder()
y = le.fit_transform(y)

# Splitting dataset into training set and test set
from sklearn.model_selection import train_test_split
X_train, X_test, y_train, y_test = train_test_split(X, y, test_size=0.2, random_state=0)

# Fitting K-NN to the Training set
from sklearn.neighbors import KNeighborsClassifier
classifier = KNeighborsClassifier(n_neighbors=3)

# Fitting the model
classifier.fit(X_train, y_train)

# Predicting the Test set results
y_pred = classifier.predict(X_test)

# Printing Predictions
print("y_pred y_test")
for i in range(len(y_pred)):
    print(y_pred[i], " ", y_test[i])

# Making the Confusion Matrix
from sklearn.metrics import confusion_matrix
cm = confusion_matrix(y_test, y_pred)
print("Confusion Matrix:")
print(cm)

# Calculating Accuracy
from sklearn.metrics import accuracy_score
accuracy = accuracy_score(y_test, y_pred) * 100
print('Accuracy of our model is equal ' + str(round(accuracy, 2)) + ' %.')
