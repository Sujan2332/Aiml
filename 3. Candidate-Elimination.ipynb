import numpy as np
import pandas as pd

# Loading Data from a CSV File
data1 = pd.read_csv('Ex02.csv')
print(data1)

# Separating concept features from Target
concepts = np.array(data1.iloc[:, 0:-1])

# Isolating target into a separate array
target = np.array(data1.iloc[:, -1])
print('concepts')
print(concepts)
print('target')
print(target)

def learn(concepts, target):
    """
    learn() function implements the learning method of the Candidate elimination algorithm.
    Arguments:
    concepts - a data frame with all the features
    target - a data frame with corresponding output values
    """
    # Initialise specific and general hypotheses
    specific_h = concepts[0].copy()
    print("Initialization of specific_h and general_h")
    print("\n specific_h:")
    print(specific_h)

    general_h = [["?" for i in range(len(specific_h))] for i in range(len(specific_h))]
    print("\n general_h:")
    print(general_h)

    # The learning iterations
    for i, h in enumerate(concepts):
        # Checking if the hypothesis has a positive target
        if target[i] == "Yes":
            for x in range(len(specific_h)):
                # Change values in S & G only if values change
                if h[x] != specific_h[x]:
                    specific_h[x] = '?'
                    general_h[x][x] = '?'
        # Checking if the hypothesis has a negative target
        if target[i] == "No":
            for x in range(len(specific_h)):
                # For negative hypothesis change values only in G
                if h[x] != specific_h[x]:
                    general_h[x][x] = specific_h[x]
                else:
                    general_h[x][x]='?'

        print("\n ------ Candidate Elimination Algorithm Step:", i+1)
        print("\n specific_h:")
        print(specific_h)
        print("\n general_h:")
        print(general_h)

    # Find indices where we have empty rows, meaning those that are unchanged
    indices = [i for i, val in enumerate(general_h) if val == ['?', '?', '?', '?', '?', '?']]
    for i in indices:  # Reverse loop to avoid index issues
        # Remove those rows from general_h
        general_h.remove(general_h[i])

    # Return final values
    return specific_h, general_h

s_final, g_final = learn(concepts, target)
print("\n Final Specific_h:", s_final)
print("\n Final General_h:", g_final)
